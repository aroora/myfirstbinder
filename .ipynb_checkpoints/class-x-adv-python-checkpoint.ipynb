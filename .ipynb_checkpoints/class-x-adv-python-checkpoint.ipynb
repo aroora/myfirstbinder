{
 "cells": [
  {
   "cell_type": "markdown",
   "metadata": {},
   "source": [
    "# Cell Types"
   ]
  },
  {
   "cell_type": "code",
   "execution_count": 1,
   "metadata": {},
   "outputs": [
    {
     "name": "stdout",
     "output_type": "stream",
     "text": [
      "Class X Advance Python - this is a python code\n"
     ]
    }
   ],
   "source": [
    "print (\"Class X Advance Python - this is a python code\")"
   ]
  },
  {
   "cell_type": "markdown",
   "metadata": {},
   "source": [
    "This is a markdown text"
   ]
  },
  {
   "cell_type": "markdown",
   "metadata": {},
   "source": [
    "# this is markdown heading"
   ]
  },
  {
   "cell_type": "markdown",
   "metadata": {},
   "source": [
    "## this is sub-heading"
   ]
  },
  {
   "cell_type": "markdown",
   "metadata": {},
   "source": [
    "### this is sub-sub heading"
   ]
  },
  {
   "cell_type": "markdown",
   "metadata": {},
   "source": [
    "#### this is sub-sub-sub heading"
   ]
  },
  {
   "cell_type": "markdown",
   "metadata": {},
   "source": [
    "> Note that the heading is no more a separare <b> cell type </b>  , it is part of markdown as you saw\n",
    "above."
   ]
  },
  {
   "cell_type": "markdown",
   "metadata": {},
   "source": [
    " ### inserting an image \n",
    " <img src=\"http://jupyter.org/assets/homepage/main-logo.svg\"> "
   ]
  },
  {
   "cell_type": "markdown",
   "metadata": {},
   "source": [
    "# Python Variables"
   ]
  },
  {
   "cell_type": "markdown",
   "metadata": {},
   "source": [
    "#### Rules for Python variables:\n",
    "* A variable name must start with a letter or the underscore character.\n",
    "* A variable name cannot start with a number.\n",
    "* A variable name can only contain alpha-numeric characters and underscores (A-z, 0-9, and _ )\n",
    "* Variable names are case-sensitive (age, Age and AGE are three different variables)"
   ]
  },
  {
   "cell_type": "code",
   "execution_count": 2,
   "metadata": {},
   "outputs": [
    {
     "name": "stdout",
     "output_type": "stream",
     "text": [
      "Anushka\n"
     ]
    }
   ],
   "source": [
    "Anushka = \"AI Learner\"\n",
    "print (\"Anushka\")"
   ]
  },
  {
   "cell_type": "code",
   "execution_count": 3,
   "metadata": {},
   "outputs": [
    {
     "name": "stdout",
     "output_type": "stream",
     "text": [
      "10\n"
     ]
    }
   ],
   "source": [
    "Class = 10\n",
    "# print (CLass) - this will fail as CLass is not defined\n",
    "print (Class)"
   ]
  },
  {
   "cell_type": "code",
   "execution_count": 4,
   "metadata": {},
   "outputs": [],
   "source": [
    "# 1a = \"test\" will fail as this doesn't follow the syntax rule to be a valid python variable"
   ]
  },
  {
   "cell_type": "code",
   "execution_count": 5,
   "metadata": {},
   "outputs": [
    {
     "name": "stdout",
     "output_type": "stream",
     "text": [
      "test\n"
     ]
    }
   ],
   "source": [
    "_a = \"test\"\n",
    "print (_a)"
   ]
  },
  {
   "cell_type": "markdown",
   "metadata": {},
   "source": [
    "## Python Keywords"
   ]
  },
  {
   "cell_type": "markdown",
   "metadata": {},
   "source": [
    "| Keyword | Description |\n",
    "|---------|-------------|\n",
    "|and |A logical operator|\n",
    "|as\t|To create an alias|\n",
    "|assert\t|For debugging|\n",
    "|break\t|To break out of a loop|\n",
    "|class\t|To define a class|\n",
    "|continue\t|To continue to the next iteration of a loop|\n",
    "|def\t|To define a function|\n",
    "|del\t|To delete an object|\n",
    "|elif\t|Used in conditional statements, same as else if|\n",
    "|else\t|Used in conditional statements|\n",
    "|except\t|Used with exceptions, what to do when an exception occurs|\n",
    "|FALSE\t|Boolean value, result of comparison operations|\n",
    "|finally\t|Used with exceptions, a block of code that will be executed no matter if there is an exception or not|\n",
    "|for\t|To create a for loop|\n",
    "|from\t|To import specific parts of a module|\n",
    "|global\t|To declare a global variable|\n",
    "|if\t|To make a conditional statement|\n",
    "|import\t|To import a module|\n",
    "|in\t|To check if a value is present in a list, tuple, etc.|\n",
    "|is\t|To test if two variables are equal|\n",
    "|lambda\t|To create an anonymous function |\n",
    "|None\t|Represents a null value|\n",
    "|nonlocal\t|To declare a non-local variable|\n",
    "|not\t|A logical operator|\n",
    "|or\t|A logical operator|\n",
    "|pass\t|A null statement, a statement that will do nothing|\n",
    "|raise\t|To raise an exception|\n",
    "|return\t|To exit a function and return a value|\n",
    "|TRUE\t|Boolean value, result of comparison operations|\n",
    "|try\t|To make a try...except statement|\n",
    "|while\t|To create a while loop|\n",
    "|with\t|Used to simplify exception handling|\n",
    "|yield\t|To end a function, returns a generator|"
   ]
  },
  {
   "cell_type": "markdown",
   "metadata": {},
   "source": [
    "<b> The Python Package Index ([PyPI](https://www.pypi.org)) is a repository of software for the Python programming language. </b>\n",
    "* PyPI helps you find and install software developed and shared by the Python community. \n",
    "* Package authors use PyPI to distribute their software. Learn how to package your Python code for PyPI.\n"
   ]
  },
  {
   "cell_type": "markdown",
   "metadata": {},
   "source": [
    "# Python Data Types"
   ]
  },
  {
   "cell_type": "markdown",
   "metadata": {},
   "source": [
    "<img src=\"https://media.geeksforgeeks.org/wp-content/uploads/20191023173512/Python-data-structure.jpg\">"
   ]
  },
  {
   "cell_type": "markdown",
   "metadata": {},
   "source": [
    "## Numeric"
   ]
  },
  {
   "cell_type": "code",
   "execution_count": 6,
   "metadata": {},
   "outputs": [
    {
     "name": "stdout",
     "output_type": "stream",
     "text": [
      "<class 'int'>\n",
      "<class 'float'>\n",
      "<class 'complex'>\n"
     ]
    }
   ],
   "source": [
    "A = 10\n",
    "B = 11.5\n",
    "C = (-5+6j)\n",
    "print(type(A))\n",
    "print(type(B))\n",
    "print(type(C))"
   ]
  },
  {
   "cell_type": "markdown",
   "metadata": {},
   "source": [
    "## Boolen"
   ]
  },
  {
   "cell_type": "code",
   "execution_count": 7,
   "metadata": {},
   "outputs": [
    {
     "name": "stdout",
     "output_type": "stream",
     "text": [
      "_1 is of type :  <class 'bool'>\n",
      "_0 is of type :  <class 'bool'>\n",
      "_1 corresponding integer value : 1\n",
      "_0 corresponding integer value : 0\n"
     ]
    }
   ],
   "source": [
    "_1 = True\n",
    "_0 = False\n",
    "print(\"_1 is of type : \" , type(_1))\n",
    "print(\"_0 is of type : \" , type(_0))\n",
    "print(\"_1 corresponding integer value :\" , int(_1))\n",
    "print(\"_0 corresponding integer value :\" , int(_0))"
   ]
  },
  {
   "cell_type": "markdown",
   "metadata": {},
   "source": [
    "## Sequence"
   ]
  },
  {
   "cell_type": "markdown",
   "metadata": {},
   "source": [
    "### Strings"
   ]
  },
  {
   "cell_type": "code",
   "execution_count": 8,
   "metadata": {},
   "outputs": [
    {
     "name": "stdout",
     "output_type": "stream",
     "text": [
      "this is a string and as well a sentence\n",
      "this is string in single quotes\n",
      "567\n",
      "t\n",
      "this \n",
      "is a \n",
      "multi-line\n",
      "string\n"
     ]
    }
   ],
   "source": [
    "str1 = \"this is a string and as well a sentence\"\n",
    "str2 = 'this is string in single quotes'\n",
    "str3 = '567'\n",
    "str4 = 't'\n",
    "str5 = \"\"\"this \n",
    "is a \n",
    "multi-line\n",
    "string\"\"\"\n",
    "\n",
    "print(str1)\n",
    "print(str2)\n",
    "print(str3)\n",
    "print(str4)\n",
    "print(str5)"
   ]
  },
  {
   "cell_type": "code",
   "execution_count": 9,
   "metadata": {},
   "outputs": [
    {
     "name": "stdout",
     "output_type": "stream",
     "text": [
      "567\n",
      "<class 'str'>\n",
      "18\n"
     ]
    }
   ],
   "source": [
    "i = str3[0] + str3[1] + str3[2]\n",
    "print(i)\n",
    "print(type (str3[0]))\n",
    "j = int (str3[0])+ int(str3[1]) + int(str3[2])\n",
    "print(j)"
   ]
  },
  {
   "cell_type": "markdown",
   "metadata": {},
   "source": [
    "### List"
   ]
  },
  {
   "cell_type": "code",
   "execution_count": 10,
   "metadata": {},
   "outputs": [
    {
     "name": "stdout",
     "output_type": "stream",
     "text": [
      "['this is a string and as well a sentence', 'this is string in single quotes', '567', 't', 'this \\nis a \\nmulti-line\\nstring']\n"
     ]
    }
   ],
   "source": [
    "thelist = [str1, str2, str3, str4, str5]\n",
    "print(thelist)"
   ]
  },
  {
   "cell_type": "code",
   "execution_count": 11,
   "metadata": {},
   "outputs": [
    {
     "data": {
      "text/plain": [
       "'this is a string and as well a sentence'"
      ]
     },
     "execution_count": 11,
     "metadata": {},
     "output_type": "execute_result"
    }
   ],
   "source": [
    "thelist[0]"
   ]
  },
  {
   "cell_type": "code",
   "execution_count": 12,
   "metadata": {},
   "outputs": [
    {
     "data": {
      "text/plain": [
       "5"
      ]
     },
     "execution_count": 12,
     "metadata": {},
     "output_type": "execute_result"
    }
   ],
   "source": [
    "len(thelist)"
   ]
  },
  {
   "cell_type": "code",
   "execution_count": 13,
   "metadata": {},
   "outputs": [
    {
     "name": "stdout",
     "output_type": "stream",
     "text": [
      "['this is a string and as well a sentence', 'this is string in single quotes', '789', 't', 'this \\nis a \\nmulti-line\\nstring']\n"
     ]
    }
   ],
   "source": [
    "thelist[2] = '789'\n",
    "print(thelist)"
   ]
  },
  {
   "cell_type": "code",
   "execution_count": 14,
   "metadata": {},
   "outputs": [
    {
     "name": "stdout",
     "output_type": "stream",
     "text": [
      "<class 'list'>\n"
     ]
    }
   ],
   "source": [
    "print(type(thelist))"
   ]
  },
  {
   "cell_type": "markdown",
   "metadata": {},
   "source": [
    "### Tuples (immutable - the elements can not be changed)"
   ]
  },
  {
   "cell_type": "code",
   "execution_count": 15,
   "metadata": {},
   "outputs": [
    {
     "name": "stdout",
     "output_type": "stream",
     "text": [
      "('567', 'this \\nis a \\nmulti-line\\nstring')\n"
     ]
    }
   ],
   "source": [
    "tupl = (str3, str5)\n",
    "print(tupl)"
   ]
  },
  {
   "cell_type": "code",
   "execution_count": 16,
   "metadata": {},
   "outputs": [
    {
     "data": {
      "text/plain": [
       "'567'"
      ]
     },
     "execution_count": 16,
     "metadata": {},
     "output_type": "execute_result"
    }
   ],
   "source": [
    "tupl[0]"
   ]
  },
  {
   "cell_type": "code",
   "execution_count": 17,
   "metadata": {},
   "outputs": [],
   "source": [
    "# tupl[0] = 789 - this will result in error as tuples are immutable"
   ]
  },
  {
   "cell_type": "markdown",
   "metadata": {},
   "source": [
    "## Set"
   ]
  },
  {
   "cell_type": "code",
   "execution_count": 18,
   "metadata": {},
   "outputs": [
    {
     "name": "stdout",
     "output_type": "stream",
     "text": [
      "{'IA', 'AI', 'ML'}\n",
      "{'DL', 'ML'}\n"
     ]
    }
   ],
   "source": [
    "set_1 = {\"AI\" , \"IA\" , \"ML\"}\n",
    "set_2 = {\"ML\" , \"DL\" , \"ML\"}\n",
    "print(set_1)\n",
    "print(set_2)"
   ]
  },
  {
   "cell_type": "markdown",
   "metadata": {},
   "source": [
    "### union"
   ]
  },
  {
   "cell_type": "code",
   "execution_count": 19,
   "metadata": {},
   "outputs": [
    {
     "name": "stdout",
     "output_type": "stream",
     "text": [
      "{'DL', 'ML', 'IA', 'AI'}\n"
     ]
    }
   ],
   "source": [
    "print (set_1 | set_2)"
   ]
  },
  {
   "cell_type": "markdown",
   "metadata": {},
   "source": [
    "### intersection"
   ]
  },
  {
   "cell_type": "code",
   "execution_count": 20,
   "metadata": {},
   "outputs": [
    {
     "name": "stdout",
     "output_type": "stream",
     "text": [
      "{'ML'}\n"
     ]
    }
   ],
   "source": [
    "print (set_1 & set_2)"
   ]
  },
  {
   "cell_type": "markdown",
   "metadata": {},
   "source": [
    "### difference"
   ]
  },
  {
   "cell_type": "markdown",
   "metadata": {},
   "source": [
    "#### (set_1 - set_2) - elements that are in set_1 but not in set_2"
   ]
  },
  {
   "cell_type": "code",
   "execution_count": 21,
   "metadata": {},
   "outputs": [
    {
     "name": "stdout",
     "output_type": "stream",
     "text": [
      "{'IA', 'AI'}\n"
     ]
    }
   ],
   "source": [
    "print(set_1 - set_2)"
   ]
  },
  {
   "cell_type": "markdown",
   "metadata": {},
   "source": [
    "#### (set_2 - set_1) - elements that are in set_2 but not in set_1"
   ]
  },
  {
   "cell_type": "code",
   "execution_count": 22,
   "metadata": {},
   "outputs": [
    {
     "name": "stdout",
     "output_type": "stream",
     "text": [
      "{'DL'}\n"
     ]
    }
   ],
   "source": [
    "print(set_2 - set_1)"
   ]
  },
  {
   "cell_type": "markdown",
   "metadata": {},
   "source": [
    "### symmetric difference - elements that are in both set_1 and set_2 except the common elements"
   ]
  },
  {
   "cell_type": "code",
   "execution_count": 23,
   "metadata": {},
   "outputs": [
    {
     "name": "stdout",
     "output_type": "stream",
     "text": [
      "{'IA', 'DL', 'AI'}\n"
     ]
    }
   ],
   "source": [
    "print(set_1 ^ set_2)"
   ]
  },
  {
   "cell_type": "markdown",
   "metadata": {},
   "source": [
    "## Dictionary"
   ]
  },
  {
   "cell_type": "markdown",
   "metadata": {},
   "source": [
    "<b> Dictionary contains key and value pairs </b>\n"
   ]
  },
  {
   "cell_type": "code",
   "execution_count": 24,
   "metadata": {},
   "outputs": [
    {
     "name": "stdout",
     "output_type": "stream",
     "text": [
      "{'First_Name': 'Anushka', 'Last_Name': 'G.'}\n"
     ]
    }
   ],
   "source": [
    "student = {\"First_Name\" : \"Anushka\", \"Last_Name\" : \"G.\"}\n",
    "print(student)"
   ]
  },
  {
   "cell_type": "markdown",
   "metadata": {},
   "source": [
    "### accessing dictionary "
   ]
  },
  {
   "cell_type": "code",
   "execution_count": 25,
   "metadata": {},
   "outputs": [
    {
     "data": {
      "text/plain": [
       "'Anushka G.'"
      ]
     },
     "execution_count": 25,
     "metadata": {},
     "output_type": "execute_result"
    }
   ],
   "source": [
    "student[\"First_Name\"] + \" \" + student[\"Last_Name\"]"
   ]
  },
  {
   "cell_type": "markdown",
   "metadata": {},
   "source": [
    "### add to dictonary"
   ]
  },
  {
   "cell_type": "code",
   "execution_count": 26,
   "metadata": {},
   "outputs": [
    {
     "name": "stdout",
     "output_type": "stream",
     "text": [
      "{'First_Name': 'Anushka', 'Last_Name': 'Gujral'}\n"
     ]
    }
   ],
   "source": [
    "student[\"Last_Name\"] = \"Gujral\"\n",
    "print(student)"
   ]
  },
  {
   "cell_type": "code",
   "execution_count": null,
   "metadata": {},
   "outputs": [],
   "source": []
  }
 ],
 "metadata": {
  "kernelspec": {
   "display_name": "Python 3 (ipykernel)",
   "language": "python",
   "name": "python3"
  },
  "language_info": {
   "codemirror_mode": {
    "name": "ipython",
    "version": 3
   },
   "file_extension": ".py",
   "mimetype": "text/x-python",
   "name": "python",
   "nbconvert_exporter": "python",
   "pygments_lexer": "ipython3",
   "version": "3.9.13"
  },
  "toc-showcode": false
 },
 "nbformat": 4,
 "nbformat_minor": 4
}
