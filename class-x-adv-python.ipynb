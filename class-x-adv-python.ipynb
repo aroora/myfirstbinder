{
  "metadata": {
    "toc-showcode": false,
    "language_info": {
      "codemirror_mode": {
        "name": "python",
        "version": 3
      },
      "file_extension": ".py",
      "mimetype": "text/x-python",
      "name": "python",
      "nbconvert_exporter": "python",
      "pygments_lexer": "ipython3",
      "version": "3.8"
    },
    "kernelspec": {
      "name": "python",
      "display_name": "Python (Pyodide)",
      "language": "python"
    }
  },
  "nbformat_minor": 4,
  "nbformat": 4,
  "cells": [
    {
      "cell_type": "markdown",
      "source": "# Cell Types",
      "metadata": {}
    },
    {
      "cell_type": "code",
      "source": "print (\"Class X Advance Python - this is python code\")",
      "metadata": {
        "trusted": true
      },
      "execution_count": 2,
      "outputs": [
        {
          "name": "stdout",
          "text": "Class X Advance Python - this is python code\n",
          "output_type": "stream"
        }
      ]
    },
    {
      "cell_type": "markdown",
      "source": "This is a markdown text",
      "metadata": {}
    },
    {
      "cell_type": "markdown",
      "source": "# this is markdown heading",
      "metadata": {}
    },
    {
      "cell_type": "markdown",
      "source": "## this is sub-heading",
      "metadata": {}
    },
    {
      "cell_type": "markdown",
      "source": "### this is sub-sub heading",
      "metadata": {}
    },
    {
      "cell_type": "markdown",
      "source": "#### this is sub-sub-sub heading",
      "metadata": {}
    },
    {
      "cell_type": "markdown",
      "source": "> Note that the heading is no more a separare <b> cell type </b>  , it is part of markdown as you saw\nabove.",
      "metadata": {}
    },
    {
      "cell_type": "markdown",
      "source": " ### inserting an image\n <img src=\"https://assets.newatlas.com/dims4/default/f4eb76c/2147483647/strip/true/crop/1200x801+0+0/resize/2880x1922!/quality/90/?url=http%3A%2F%2Fnewatlas-brightspot.s3.amazonaws.com%2Farchive%2Fnat-geo-travel-photo-winners-1.jpg\" \n    alt=\"Coooolllllddddd!!\"> ",
      "metadata": {}
    },
    {
      "cell_type": "code",
      "source": "",
      "metadata": {},
      "execution_count": null,
      "outputs": []
    }
  ]
}