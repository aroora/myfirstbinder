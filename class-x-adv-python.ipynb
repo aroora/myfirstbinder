{
  "cells": [
    {
      "cell_type": "markdown",
      "metadata": {},
      "source": [
        "# Cell Types"
      ]
    },
    {
      "cell_type": "code",
      "execution_count": null,
      "metadata": {
        "trusted": true
      },
      "outputs": [
        {
          "name": "stdout",
          "output_type": "stream",
          "text": [
            "Class X Advance Python - this is python code\n"
          ]
        }
      ],
      "source": [
        "print (\"Class X Advance Python - this is python code\")"
      ]
    },
    {
      "cell_type": "markdown",
      "metadata": {},
      "source": [
        "This is a markdown text"
      ]
    },
    {
      "cell_type": "markdown",
      "metadata": {},
      "source": [
        "# this is markdown heading"
      ]
    },
    {
      "cell_type": "markdown",
      "metadata": {},
      "source": [
        "## this is sub-heading"
      ]
    },
    {
      "cell_type": "markdown",
      "metadata": {},
      "source": [
        "### this is sub-sub heading"
      ]
    },
    {
      "cell_type": "markdown",
      "metadata": {},
      "source": [
        "#### this is sub-sub-sub heading"
      ]
    },
    {
      "cell_type": "markdown",
      "metadata": {},
      "source": [
        "> Note that the heading is no more a separare <b> cell type </b>  , it is part of markdown as you saw\n",
        "above."
      ]
    },
    {
      "cell_type": "markdown",
      "metadata": {},
      "source": [
        " ### inserting an image\n",
        " <img src=\"https://assets.newatlas.com/dims4/default/f4eb76c/2147483647/strip/true/crop/1200x801+0+0/resize/2880x1922!/quality/90/?url=http%3A%2F%2Fnewatlas-brightspot.s3.amazonaws.com%2Farchive%2Fnat-geo-travel-photo-winners-1.jpg\" \n",
        "    alt=\"Coooolllllddddd!!\"> "
      ]
    },
    {
      "attachments": {},
      "cell_type": "markdown",
      "metadata": {},
      "source": [
        "# Python Variables"
      ]
    },
    {
      "cell_type": "code",
      "execution_count": null,
      "metadata": {},
      "outputs": [],
      "source": [
        "Anushka = \"AI Learner\"\n",
        "print (\"Anushka\")"
      ]
    },
    {
      "cell_type": "code",
      "execution_count": null,
      "metadata": {},
      "outputs": [],
      "source": [
        "Class = 10\n",
        "print (CLass)\n",
        "print (Class)"
      ]
    },
    {
      "cell_type": "code",
      "execution_count": null,
      "metadata": {},
      "outputs": [],
      "source": [
        "1a = \"test\""
      ]
    },
    {
      "cell_type": "code",
      "execution_count": null,
      "metadata": {},
      "outputs": [],
      "source": [
        "_a = \"test\"\n",
        "print (_a)"
      ]
    }
  ],
  "metadata": {
    "kernelspec": {
      "display_name": "Python (Pyodide)",
      "language": "python",
      "name": "python"
    },
    "language_info": {
      "codemirror_mode": {
        "name": "python",
        "version": 3
      },
      "file_extension": ".py",
      "mimetype": "text/x-python",
      "name": "python",
      "nbconvert_exporter": "python",
      "pygments_lexer": "ipython3",
      "version": "3.8"
    },
    "toc-showcode": false
  },
  "nbformat": 4,
  "nbformat_minor": 4
}
